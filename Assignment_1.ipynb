{
  "nbformat": 4,
  "nbformat_minor": 0,
  "metadata": {
    "colab": {
      "name": "Assignment 1",
      "provenance": [],
      "collapsed_sections": []
    },
    "kernelspec": {
      "name": "python3",
      "display_name": "Python 3"
    }
  },
  "cells": [
    {
      "cell_type": "code",
      "metadata": {
        "id": "alLwhqLsWyhb"
      },
      "source": [
        "import pandas as pd\r\n",
        "import matplotlib.pyplot as plt\r\n",
        "import seaborn as sns\r\n",
        "import numpy as np\r\n",
        "from scipy.stats import kde"
      ],
      "execution_count": 103,
      "outputs": []
    },
    {
      "cell_type": "markdown",
      "metadata": {
        "id": "iJJ5W2ilzFay"
      },
      "source": [
        "Dataset 1"
      ]
    },
    {
      "cell_type": "code",
      "metadata": {
        "id": "IjHGhsUWW7Qe"
      },
      "source": [
        "#manually uploaded this csv file\r\n",
        "fullpath= '/content/bestsellers with categories.csv'"
      ],
      "execution_count": null,
      "outputs": []
    },
    {
      "cell_type": "code",
      "metadata": {
        "id": "wNveyVugXJFu"
      },
      "source": [
        "#read csv into a dataframe\r\n",
        "df = pd.read_csv(fullpath, error_bad_lines=False)"
      ],
      "execution_count": null,
      "outputs": []
    },
    {
      "cell_type": "code",
      "metadata": {
        "colab": {
          "base_uri": "https://localhost:8080/",
          "height": 419
        },
        "id": "KZ3YSIVtXwb2",
        "outputId": "330ba69f-d8d6-4d24-ac1e-f28d78f376d6"
      },
      "source": [
        "df"
      ],
      "execution_count": null,
      "outputs": [
        {
          "output_type": "execute_result",
          "data": {
            "text/html": [
              "<div>\n",
              "<style scoped>\n",
              "    .dataframe tbody tr th:only-of-type {\n",
              "        vertical-align: middle;\n",
              "    }\n",
              "\n",
              "    .dataframe tbody tr th {\n",
              "        vertical-align: top;\n",
              "    }\n",
              "\n",
              "    .dataframe thead th {\n",
              "        text-align: right;\n",
              "    }\n",
              "</style>\n",
              "<table border=\"1\" class=\"dataframe\">\n",
              "  <thead>\n",
              "    <tr style=\"text-align: right;\">\n",
              "      <th></th>\n",
              "      <th>Name</th>\n",
              "      <th>UserRating</th>\n",
              "      <th>Reviews</th>\n",
              "      <th>Price</th>\n",
              "      <th>Year</th>\n",
              "    </tr>\n",
              "  </thead>\n",
              "  <tbody>\n",
              "    <tr>\n",
              "      <th>0</th>\n",
              "      <td>10-Day Green Smoothie Cleanse</td>\n",
              "      <td>4.7</td>\n",
              "      <td>17350</td>\n",
              "      <td>8</td>\n",
              "      <td>2016</td>\n",
              "    </tr>\n",
              "    <tr>\n",
              "      <th>1</th>\n",
              "      <td>11/22/63: A Novel</td>\n",
              "      <td>4.6</td>\n",
              "      <td>2052</td>\n",
              "      <td>22</td>\n",
              "      <td>2011</td>\n",
              "    </tr>\n",
              "    <tr>\n",
              "      <th>2</th>\n",
              "      <td>12 Rules for Life: An Antidote to Chaos</td>\n",
              "      <td>4.7</td>\n",
              "      <td>18979</td>\n",
              "      <td>15</td>\n",
              "      <td>2018</td>\n",
              "    </tr>\n",
              "    <tr>\n",
              "      <th>3</th>\n",
              "      <td>1984 (Signet Classics)</td>\n",
              "      <td>4.7</td>\n",
              "      <td>21424</td>\n",
              "      <td>6</td>\n",
              "      <td>2017</td>\n",
              "    </tr>\n",
              "    <tr>\n",
              "      <th>4</th>\n",
              "      <td>5,000 Awesome Facts (About Everything!) (Natio...</td>\n",
              "      <td>4.8</td>\n",
              "      <td>7665</td>\n",
              "      <td>12</td>\n",
              "      <td>2019</td>\n",
              "    </tr>\n",
              "    <tr>\n",
              "      <th>...</th>\n",
              "      <td>...</td>\n",
              "      <td>...</td>\n",
              "      <td>...</td>\n",
              "      <td>...</td>\n",
              "      <td>...</td>\n",
              "    </tr>\n",
              "    <tr>\n",
              "      <th>545</th>\n",
              "      <td>Wrecking Ball (Diary of a Wimpy Kid Book 14)</td>\n",
              "      <td>4.9</td>\n",
              "      <td>9413</td>\n",
              "      <td>8</td>\n",
              "      <td>2019</td>\n",
              "    </tr>\n",
              "    <tr>\n",
              "      <th>546</th>\n",
              "      <td>You Are a Badass: How to Stop Doubting Your Gr...</td>\n",
              "      <td>4.7</td>\n",
              "      <td>14331</td>\n",
              "      <td>8</td>\n",
              "      <td>2016</td>\n",
              "    </tr>\n",
              "    <tr>\n",
              "      <th>547</th>\n",
              "      <td>You Are a Badass: How to Stop Doubting Your Gr...</td>\n",
              "      <td>4.7</td>\n",
              "      <td>14331</td>\n",
              "      <td>8</td>\n",
              "      <td>2017</td>\n",
              "    </tr>\n",
              "    <tr>\n",
              "      <th>548</th>\n",
              "      <td>You Are a Badass: How to Stop Doubting Your Gr...</td>\n",
              "      <td>4.7</td>\n",
              "      <td>14331</td>\n",
              "      <td>8</td>\n",
              "      <td>2018</td>\n",
              "    </tr>\n",
              "    <tr>\n",
              "      <th>549</th>\n",
              "      <td>You Are a Badass: How to Stop Doubting Your Gr...</td>\n",
              "      <td>4.7</td>\n",
              "      <td>14331</td>\n",
              "      <td>8</td>\n",
              "      <td>2019</td>\n",
              "    </tr>\n",
              "  </tbody>\n",
              "</table>\n",
              "<p>550 rows × 5 columns</p>\n",
              "</div>"
            ],
            "text/plain": [
              "                                                  Name  UserRating  ...  Price  Year\n",
              "0                        10-Day Green Smoothie Cleanse         4.7  ...      8  2016\n",
              "1                                    11/22/63: A Novel         4.6  ...     22  2011\n",
              "2              12 Rules for Life: An Antidote to Chaos         4.7  ...     15  2018\n",
              "3                               1984 (Signet Classics)         4.7  ...      6  2017\n",
              "4    5,000 Awesome Facts (About Everything!) (Natio...         4.8  ...     12  2019\n",
              "..                                                 ...         ...  ...    ...   ...\n",
              "545       Wrecking Ball (Diary of a Wimpy Kid Book 14)         4.9  ...      8  2019\n",
              "546  You Are a Badass: How to Stop Doubting Your Gr...         4.7  ...      8  2016\n",
              "547  You Are a Badass: How to Stop Doubting Your Gr...         4.7  ...      8  2017\n",
              "548  You Are a Badass: How to Stop Doubting Your Gr...         4.7  ...      8  2018\n",
              "549  You Are a Badass: How to Stop Doubting Your Gr...         4.7  ...      8  2019\n",
              "\n",
              "[550 rows x 5 columns]"
            ]
          },
          "metadata": {
            "tags": []
          },
          "execution_count": 6
        }
      ]
    },
    {
      "cell_type": "code",
      "metadata": {
        "colab": {
          "base_uri": "https://localhost:8080/",
          "height": 279
        },
        "id": "WTEH49-SayuP",
        "outputId": "aca17861-17e6-4d78-fa7c-bd9b0b8ad9ea"
      },
      "source": [
        "#create scatter plot using the user ratings and prices columns\r\n",
        "plt.scatter(x = df2['UserRating'], y= df2['Price'])\r\n",
        "plt.xlabel('User Rating')\r\n",
        "plt.ylabel('Price')\r\n",
        "plt.show()"
      ],
      "execution_count": 47,
      "outputs": [
        {
          "output_type": "display_data",
          "data": {
            "image/png": "[encoded data removed]",
            "text/plain": [
              "<Figure size 432x288 with 1 Axes>"
            ]
          },
          "metadata": {
            "tags": [],
            "needs_background": "light"
          }
        }
      ]
    },
    {
      "cell_type": "code",
      "metadata": {
        "colab": {
          "base_uri": "https://localhost:8080/",
          "height": 296
        },
        "id": "cQMr9Ou5lZB9",
        "outputId": "6ea6753e-8e3e-4769-d37f-7eb1b4502940"
      },
      "source": [
        "#create a boxplot based on year and user rating with a blue pallete that gradually darkens\r\n",
        "sns.boxplot(x=df2['Year'], y=df2[\"UserRating\"], palette=\"Blues\")"
      ],
      "execution_count": null,
      "outputs": [
        {
          "output_type": "execute_result",
          "data": {
            "text/plain": [
              "<matplotlib.axes._subplots.AxesSubplot at 0x7f5e8d2366a0>"
            ]
          },
          "metadata": {
            "tags": []
          },
          "execution_count": 45
        },
        {
          "output_type": "display_data",
          "data": {
            "image/png": "[encoded data removed]",
            "text/plain": [
              "<Figure size 432x288 with 1 Axes>"
            ]
          },
          "metadata": {
            "tags": [],
            "needs_background": "light"
          }
        }
      ]
    },
    {
      "cell_type": "markdown",
      "metadata": {
        "id": "nfvnl8M_zIXS"
      },
      "source": [
        "Dataset 2"
      ]
    },
    {
      "cell_type": "code",
      "metadata": {
        "id": "jwryQxbmzoiE"
      },
      "source": [
        "#manually uploaded this csv file\r\n",
        "fullpath2 = '/content/co2_emission.csv'"
      ],
      "execution_count": 93,
      "outputs": []
    },
    {
      "cell_type": "code",
      "metadata": {
        "id": "0JVrrH1d0Jui"
      },
      "source": [
        "#read csv into a dataframe\r\n",
        "df = pd.read_csv(fullpath2, error_bad_lines=False)"
      ],
      "execution_count": 94,
      "outputs": []
    },
    {
      "cell_type": "code",
      "metadata": {
        "colab": {
          "base_uri": "https://localhost:8080/",
          "height": 419
        },
        "id": "CpHJs-y80RNi",
        "outputId": "53a044e5-03fc-41b2-bf85-5ec2692e867e"
      },
      "source": [
        "df"
      ],
      "execution_count": 95,
      "outputs": [
        {
          "output_type": "execute_result",
          "data": {
            "text/html": [
              "<div>\n",
              "<style scoped>\n",
              "    .dataframe tbody tr th:only-of-type {\n",
              "        vertical-align: middle;\n",
              "    }\n",
              "\n",
              "    .dataframe tbody tr th {\n",
              "        vertical-align: top;\n",
              "    }\n",
              "\n",
              "    .dataframe thead th {\n",
              "        text-align: right;\n",
              "    }\n",
              "</style>\n",
              "<table border=\"1\" class=\"dataframe\">\n",
              "  <thead>\n",
              "    <tr style=\"text-align: right;\">\n",
              "      <th></th>\n",
              "      <th>Country</th>\n",
              "      <th>Year</th>\n",
              "      <th>CO2 Emissions</th>\n",
              "    </tr>\n",
              "  </thead>\n",
              "  <tbody>\n",
              "    <tr>\n",
              "      <th>0</th>\n",
              "      <td>United States</td>\n",
              "      <td>1800</td>\n",
              "      <td>252816</td>\n",
              "    </tr>\n",
              "    <tr>\n",
              "      <th>1</th>\n",
              "      <td>United States</td>\n",
              "      <td>1801</td>\n",
              "      <td>267472</td>\n",
              "    </tr>\n",
              "    <tr>\n",
              "      <th>2</th>\n",
              "      <td>United States</td>\n",
              "      <td>1802</td>\n",
              "      <td>289456</td>\n",
              "    </tr>\n",
              "    <tr>\n",
              "      <th>3</th>\n",
              "      <td>United States</td>\n",
              "      <td>1803</td>\n",
              "      <td>296784</td>\n",
              "    </tr>\n",
              "    <tr>\n",
              "      <th>4</th>\n",
              "      <td>United States</td>\n",
              "      <td>1804</td>\n",
              "      <td>333424</td>\n",
              "    </tr>\n",
              "    <tr>\n",
              "      <th>...</th>\n",
              "      <td>...</td>\n",
              "      <td>...</td>\n",
              "      <td>...</td>\n",
              "    </tr>\n",
              "    <tr>\n",
              "      <th>213</th>\n",
              "      <td>United States</td>\n",
              "      <td>2013</td>\n",
              "      <td>5519612557</td>\n",
              "    </tr>\n",
              "    <tr>\n",
              "      <th>214</th>\n",
              "      <td>United States</td>\n",
              "      <td>2014</td>\n",
              "      <td>5568759258</td>\n",
              "    </tr>\n",
              "    <tr>\n",
              "      <th>215</th>\n",
              "      <td>United States</td>\n",
              "      <td>2015</td>\n",
              "      <td>5420804127</td>\n",
              "    </tr>\n",
              "    <tr>\n",
              "      <th>216</th>\n",
              "      <td>United States</td>\n",
              "      <td>2016</td>\n",
              "      <td>5310861406</td>\n",
              "    </tr>\n",
              "    <tr>\n",
              "      <th>217</th>\n",
              "      <td>United States</td>\n",
              "      <td>2017</td>\n",
              "      <td>5269529513</td>\n",
              "    </tr>\n",
              "  </tbody>\n",
              "</table>\n",
              "<p>218 rows × 3 columns</p>\n",
              "</div>"
            ],
            "text/plain": [
              "           Country  Year  CO2 Emissions\n",
              "0    United States  1800         252816\n",
              "1    United States  1801         267472\n",
              "2    United States  1802         289456\n",
              "3    United States  1803         296784\n",
              "4    United States  1804         333424\n",
              "..             ...   ...            ...\n",
              "213  United States  2013     5519612557\n",
              "214  United States  2014     5568759258\n",
              "215  United States  2015     5420804127\n",
              "216  United States  2016     5310861406\n",
              "217  United States  2017     5269529513\n",
              "\n",
              "[218 rows x 3 columns]"
            ]
          },
          "metadata": {
            "tags": []
          },
          "execution_count": 95
        }
      ]
    },
    {
      "cell_type": "code",
      "metadata": {
        "colab": {
          "base_uri": "https://localhost:8080/",
          "height": 290
        },
        "id": "Qmfz_XD80W7q",
        "outputId": "b9ae638a-dcc5-4426-afd2-aad8bd7d5194"
      },
      "source": [
        "#create pivot table from dataframe to allow the year to be used as an index rather than a 0-217 index system based on number of years counted by the dataset\r\n",
        "df = df.pivot(index='Year', columns = 'Country', values='CO2 Emissions')\r\n",
        "df.plot()\r\n",
        "plt.xlabel('Year')\r\n",
        "plt.ylabel('CO2 Emissions in billions of tons')\r\n",
        "plt.show()"
      ],
      "execution_count": 96,
      "outputs": [
        {
          "output_type": "display_data",
          "data": {
            "image/png": "[encoded data removed]",
            "text/plain": [
              "<Figure size 432x288 with 1 Axes>"
            ]
          },
          "metadata": {
            "tags": [],
            "needs_background": "light"
          }
        }
      ]
    },
    {
      "cell_type": "markdown",
      "metadata": {
        "id": "pLOsfyuKMzCF"
      },
      "source": [
        "Dataset 3"
      ]
    },
    {
      "cell_type": "code",
      "metadata": {
        "id": "vjN0eggZRnWd"
      },
      "source": [
        "#manually uploaded this csv file\r\n",
        "fullpath3 = '/content/us_unemployment_data.csv'"
      ],
      "execution_count": 133,
      "outputs": []
    },
    {
      "cell_type": "code",
      "metadata": {
        "id": "4rn8W5OWXaX-"
      },
      "source": [
        "#read csv into a dataframe\r\n",
        "df = pd.read_csv(fullpath3, error_bad_lines=False)"
      ],
      "execution_count": 134,
      "outputs": []
    },
    {
      "cell_type": "code",
      "metadata": {
        "colab": {
          "base_uri": "https://localhost:8080/",
          "height": 390
        },
        "id": "-6WqlY7jXeMn",
        "outputId": "7aaa323c-c785-40e4-f730-9d6f6d20ec4b"
      },
      "source": [
        "df"
      ],
      "execution_count": 135,
      "outputs": [
        {
          "output_type": "execute_result",
          "data": {
            "text/html": [
              "<div>\n",
              "<style scoped>\n",
              "    .dataframe tbody tr th:only-of-type {\n",
              "        vertical-align: middle;\n",
              "    }\n",
              "\n",
              "    .dataframe tbody tr th {\n",
              "        vertical-align: top;\n",
              "    }\n",
              "\n",
              "    .dataframe thead th {\n",
              "        text-align: right;\n",
              "    }\n",
              "</style>\n",
              "<table border=\"1\" class=\"dataframe\">\n",
              "  <thead>\n",
              "    <tr style=\"text-align: right;\">\n",
              "      <th></th>\n",
              "      <th>Year</th>\n",
              "      <th>Primary_School</th>\n",
              "      <th>High_School</th>\n",
              "      <th>Associates_Degree</th>\n",
              "      <th>Professional_Degree</th>\n",
              "      <th>White</th>\n",
              "      <th>Black</th>\n",
              "      <th>Asian</th>\n",
              "      <th>Hispanic</th>\n",
              "      <th>Men</th>\n",
              "      <th>Women</th>\n",
              "    </tr>\n",
              "  </thead>\n",
              "  <tbody>\n",
              "    <tr>\n",
              "      <th>0</th>\n",
              "      <td>2010</td>\n",
              "      <td>15.3</td>\n",
              "      <td>10.2</td>\n",
              "      <td>8.6</td>\n",
              "      <td>4.9</td>\n",
              "      <td>8.8</td>\n",
              "      <td>16.5</td>\n",
              "      <td>8.3</td>\n",
              "      <td>12.9</td>\n",
              "      <td>10.2</td>\n",
              "      <td>7.9</td>\n",
              "    </tr>\n",
              "    <tr>\n",
              "      <th>1</th>\n",
              "      <td>2011</td>\n",
              "      <td>14.3</td>\n",
              "      <td>9.5</td>\n",
              "      <td>8.1</td>\n",
              "      <td>4.3</td>\n",
              "      <td>8.1</td>\n",
              "      <td>15.8</td>\n",
              "      <td>6.8</td>\n",
              "      <td>12.3</td>\n",
              "      <td>9.0</td>\n",
              "      <td>7.9</td>\n",
              "    </tr>\n",
              "    <tr>\n",
              "      <th>2</th>\n",
              "      <td>2012</td>\n",
              "      <td>13.0</td>\n",
              "      <td>8.5</td>\n",
              "      <td>7.1</td>\n",
              "      <td>4.3</td>\n",
              "      <td>7.4</td>\n",
              "      <td>13.6</td>\n",
              "      <td>6.7</td>\n",
              "      <td>10.7</td>\n",
              "      <td>7.7</td>\n",
              "      <td>7.6</td>\n",
              "    </tr>\n",
              "    <tr>\n",
              "      <th>3</th>\n",
              "      <td>2013</td>\n",
              "      <td>12.0</td>\n",
              "      <td>8.1</td>\n",
              "      <td>6.9</td>\n",
              "      <td>3.8</td>\n",
              "      <td>7.1</td>\n",
              "      <td>13.7</td>\n",
              "      <td>6.4</td>\n",
              "      <td>9.7</td>\n",
              "      <td>7.5</td>\n",
              "      <td>7.2</td>\n",
              "    </tr>\n",
              "    <tr>\n",
              "      <th>4</th>\n",
              "      <td>2014</td>\n",
              "      <td>9.4</td>\n",
              "      <td>6.5</td>\n",
              "      <td>5.9</td>\n",
              "      <td>3.3</td>\n",
              "      <td>5.7</td>\n",
              "      <td>12.1</td>\n",
              "      <td>4.7</td>\n",
              "      <td>8.3</td>\n",
              "      <td>6.2</td>\n",
              "      <td>5.8</td>\n",
              "    </tr>\n",
              "    <tr>\n",
              "      <th>5</th>\n",
              "      <td>2015</td>\n",
              "      <td>8.3</td>\n",
              "      <td>5.4</td>\n",
              "      <td>5.2</td>\n",
              "      <td>2.8</td>\n",
              "      <td>4.9</td>\n",
              "      <td>10.3</td>\n",
              "      <td>4.0</td>\n",
              "      <td>6.7</td>\n",
              "      <td>5.3</td>\n",
              "      <td>5.0</td>\n",
              "    </tr>\n",
              "    <tr>\n",
              "      <th>6</th>\n",
              "      <td>2016</td>\n",
              "      <td>7.1</td>\n",
              "      <td>5.2</td>\n",
              "      <td>4.2</td>\n",
              "      <td>2.5</td>\n",
              "      <td>4.2</td>\n",
              "      <td>8.7</td>\n",
              "      <td>3.6</td>\n",
              "      <td>5.8</td>\n",
              "      <td>4.4</td>\n",
              "      <td>4.5</td>\n",
              "    </tr>\n",
              "    <tr>\n",
              "      <th>7</th>\n",
              "      <td>2017</td>\n",
              "      <td>7.4</td>\n",
              "      <td>5.2</td>\n",
              "      <td>3.8</td>\n",
              "      <td>2.5</td>\n",
              "      <td>4.2</td>\n",
              "      <td>7.5</td>\n",
              "      <td>3.7</td>\n",
              "      <td>5.8</td>\n",
              "      <td>4.3</td>\n",
              "      <td>4.4</td>\n",
              "    </tr>\n",
              "    <tr>\n",
              "      <th>8</th>\n",
              "      <td>2018</td>\n",
              "      <td>5.4</td>\n",
              "      <td>4.4</td>\n",
              "      <td>3.4</td>\n",
              "      <td>2.1</td>\n",
              "      <td>3.5</td>\n",
              "      <td>7.5</td>\n",
              "      <td>3.0</td>\n",
              "      <td>5.0</td>\n",
              "      <td>3.8</td>\n",
              "      <td>3.6</td>\n",
              "    </tr>\n",
              "    <tr>\n",
              "      <th>9</th>\n",
              "      <td>2019</td>\n",
              "      <td>5.7</td>\n",
              "      <td>3.7</td>\n",
              "      <td>3.4</td>\n",
              "      <td>2.4</td>\n",
              "      <td>3.5</td>\n",
              "      <td>6.8</td>\n",
              "      <td>3.1</td>\n",
              "      <td>4.8</td>\n",
              "      <td>3.7</td>\n",
              "      <td>3.6</td>\n",
              "    </tr>\n",
              "    <tr>\n",
              "      <th>10</th>\n",
              "      <td>2020</td>\n",
              "      <td>5.5</td>\n",
              "      <td>3.8</td>\n",
              "      <td>2.8</td>\n",
              "      <td>2.0</td>\n",
              "      <td>3.1</td>\n",
              "      <td>6.0</td>\n",
              "      <td>3.0</td>\n",
              "      <td>4.3</td>\n",
              "      <td>3.3</td>\n",
              "      <td>3.2</td>\n",
              "    </tr>\n",
              "  </tbody>\n",
              "</table>\n",
              "</div>"
            ],
            "text/plain": [
              "    Year  Primary_School  High_School  ...  Hispanic   Men  Women\n",
              "0   2010            15.3         10.2  ...      12.9  10.2    7.9\n",
              "1   2011            14.3          9.5  ...      12.3   9.0    7.9\n",
              "2   2012            13.0          8.5  ...      10.7   7.7    7.6\n",
              "3   2013            12.0          8.1  ...       9.7   7.5    7.2\n",
              "4   2014             9.4          6.5  ...       8.3   6.2    5.8\n",
              "5   2015             8.3          5.4  ...       6.7   5.3    5.0\n",
              "6   2016             7.1          5.2  ...       5.8   4.4    4.5\n",
              "7   2017             7.4          5.2  ...       5.8   4.3    4.4\n",
              "8   2018             5.4          4.4  ...       5.0   3.8    3.6\n",
              "9   2019             5.7          3.7  ...       4.8   3.7    3.6\n",
              "10  2020             5.5          3.8  ...       4.3   3.3    3.2\n",
              "\n",
              "[11 rows x 11 columns]"
            ]
          },
          "metadata": {
            "tags": []
          },
          "execution_count": 135
        }
      ]
    },
    {
      "cell_type": "code",
      "metadata": {
        "colab": {
          "base_uri": "https://localhost:8080/",
          "height": 279
        },
        "id": "TstV8UtGaj-3",
        "outputId": "b2fe4a96-3512-4bd9-c439-a16c34d4fcf5"
      },
      "source": [
        "#style\r\n",
        "plt.style.use('seaborn-darkgrid')\r\n",
        " \r\n",
        "#create color palette\r\n",
        "palette = plt.get_cmap('Set1')\r\n",
        "\r\n",
        "#spaghetti plot\r\n",
        "num=0\r\n",
        "for column in df.drop('Year', axis=1):\r\n",
        "  num+=1\r\n",
        "  plt.plot(df['Year'], df[column], marker='', color=palette(num), linewidth=1, alpha=0.9, label=column)\r\n",
        "\r\n",
        "#create the legend\r\n",
        "plt.legend(loc=1, ncol=2)\r\n"
      ],
      "execution_count": 168,
      "outputs": [
        {
          "output_type": "execute_result",
          "data": {
            "text/plain": [
              "<matplotlib.legend.Legend at 0x7f5e81cf4198>"
            ]
          },
          "metadata": {
            "tags": []
          },
          "execution_count": 168
        },
        {
          "output_type": "display_data",
          "data": {
            "image/png": "[encoded data removed]",
            "text/plain": [
              "<Figure size 432x288 with 1 Axes>"
            ]
          },
          "metadata": {
            "tags": []
          }
        }
      ]
    }
  ]
}