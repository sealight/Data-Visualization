{
 "cells": [
  {
   "cell_type": "code",
   "execution_count": 3,
   "metadata": {},
   "outputs": [
    {
     "name": "stdout",
     "output_type": "stream",
     "text": [
      "Requirement already satisfied: laspy in c:\\users\\celes\\anaconda3\\lib\\site-packages (1.7.0)\n",
      "Requirement already satisfied: numpy in c:\\users\\celes\\appdata\\roaming\\python\\python38\\site-packages (from laspy) (1.18.5)\n"
     ]
    }
   ],
   "source": [
    "!pip install laspy"
   ]
  },
  {
   "cell_type": "code",
   "execution_count": 12,
   "metadata": {
    "collapsed": true
   },
   "outputs": [
    {
     "name": "stdout",
     "output_type": "stream",
     "text": [
      "Requirement already satisfied: open3d==0.10.0.0 in c:\\users\\celes\\anaconda3\\lib\\site-packages (0.10.0.0)\n",
      "Requirement already satisfied: matplotlib in c:\\users\\celes\\appdata\\roaming\\python\\python38\\site-packages (from open3d==0.10.0.0) (3.3.4)\n",
      "Requirement already satisfied: widgetsnbextension in c:\\users\\celes\\anaconda3\\lib\\site-packages (from open3d==0.10.0.0) (3.5.1)\n",
      "Requirement already satisfied: numpy in c:\\users\\celes\\appdata\\roaming\\python\\python38\\site-packages (from open3d==0.10.0.0) (1.18.5)\n",
      "Requirement already satisfied: ipywidgets in c:\\users\\celes\\anaconda3\\lib\\site-packages (from open3d==0.10.0.0) (7.5.1)\n",
      "Requirement already satisfied: notebook in c:\\users\\celes\\anaconda3\\lib\\site-packages (from open3d==0.10.0.0) (6.1.4)\n",
      "Requirement already satisfied: pyparsing!=2.0.4,!=2.1.2,!=2.1.6,>=2.0.3 in c:\\users\\celes\\appdata\\roaming\\python\\python38\\site-packages (from matplotlib->open3d==0.10.0.0) (2.4.7)\n",
      "Requirement already satisfied: python-dateutil>=2.1 in c:\\users\\celes\\appdata\\roaming\\python\\python38\\site-packages (from matplotlib->open3d==0.10.0.0) (2.8.1)\n",
      "Requirement already satisfied: pillow>=6.2.0 in c:\\users\\celes\\appdata\\roaming\\python\\python38\\site-packages (from matplotlib->open3d==0.10.0.0) (8.1.0)\n",
      "Requirement already satisfied: cycler>=0.10 in c:\\users\\celes\\appdata\\roaming\\python\\python38\\site-packages (from matplotlib->open3d==0.10.0.0) (0.10.0)\n",
      "Requirement already satisfied: kiwisolver>=1.0.1 in c:\\users\\celes\\appdata\\roaming\\python\\python38\\site-packages (from matplotlib->open3d==0.10.0.0) (1.3.1)\n",
      "Requirement already satisfied: ipython>=4.0.0; python_version >= \"3.3\" in c:\\users\\celes\\appdata\\roaming\\python\\python38\\site-packages (from ipywidgets->open3d==0.10.0.0) (7.21.0)\n",
      "Requirement already satisfied: nbformat>=4.2.0 in c:\\users\\celes\\anaconda3\\lib\\site-packages (from ipywidgets->open3d==0.10.0.0) (5.0.8)\n",
      "Requirement already satisfied: traitlets>=4.3.1 in c:\\users\\celes\\appdata\\roaming\\python\\python38\\site-packages (from ipywidgets->open3d==0.10.0.0) (5.0.5)\n",
      "Requirement already satisfied: ipykernel>=4.5.1 in c:\\users\\celes\\anaconda3\\lib\\site-packages (from ipywidgets->open3d==0.10.0.0) (5.3.4)\n",
      "Requirement already satisfied: prometheus-client in c:\\users\\celes\\anaconda3\\lib\\site-packages (from notebook->open3d==0.10.0.0) (0.8.0)\n",
      "Requirement already satisfied: pyzmq>=17 in c:\\users\\celes\\anaconda3\\lib\\site-packages (from notebook->open3d==0.10.0.0) (19.0.2)\n",
      "Requirement already satisfied: terminado>=0.8.3 in c:\\users\\celes\\anaconda3\\lib\\site-packages (from notebook->open3d==0.10.0.0) (0.9.1)\n",
      "Requirement already satisfied: Send2Trash in c:\\users\\celes\\anaconda3\\lib\\site-packages (from notebook->open3d==0.10.0.0) (1.5.0)\n",
      "Requirement already satisfied: ipython-genutils in c:\\users\\celes\\appdata\\roaming\\python\\python38\\site-packages (from notebook->open3d==0.10.0.0) (0.2.0)\n",
      "Requirement already satisfied: nbconvert in c:\\users\\celes\\anaconda3\\lib\\site-packages (from notebook->open3d==0.10.0.0) (6.0.7)\n",
      "Requirement already satisfied: jupyter-client>=5.3.4 in c:\\users\\celes\\anaconda3\\lib\\site-packages (from notebook->open3d==0.10.0.0) (6.1.7)\n",
      "Requirement already satisfied: tornado>=5.0 in c:\\users\\celes\\anaconda3\\lib\\site-packages (from notebook->open3d==0.10.0.0) (6.0.4)\n",
      "Requirement already satisfied: jinja2 in c:\\users\\celes\\anaconda3\\lib\\site-packages (from notebook->open3d==0.10.0.0) (2.11.2)\n",
      "Requirement already satisfied: jupyter-core>=4.6.1 in c:\\users\\celes\\anaconda3\\lib\\site-packages (from notebook->open3d==0.10.0.0) (4.6.3)\n",
      "Requirement already satisfied: argon2-cffi in c:\\users\\celes\\anaconda3\\lib\\site-packages (from notebook->open3d==0.10.0.0) (20.1.0)\n",
      "Requirement already satisfied: six>=1.5 in c:\\users\\celes\\anaconda3\\lib\\site-packages (from python-dateutil>=2.1->matplotlib->open3d==0.10.0.0) (1.15.0)\n",
      "Requirement already satisfied: pickleshare in c:\\users\\celes\\appdata\\roaming\\python\\python38\\site-packages (from ipython>=4.0.0; python_version >= \"3.3\"->ipywidgets->open3d==0.10.0.0) (0.7.5)\n",
      "Requirement already satisfied: backcall in c:\\users\\celes\\appdata\\roaming\\python\\python38\\site-packages (from ipython>=4.0.0; python_version >= \"3.3\"->ipywidgets->open3d==0.10.0.0) (0.2.0)\n",
      "Requirement already satisfied: decorator in c:\\users\\celes\\appdata\\roaming\\python\\python38\\site-packages (from ipython>=4.0.0; python_version >= \"3.3\"->ipywidgets->open3d==0.10.0.0) (4.4.2)\n",
      "Requirement already satisfied: pygments in c:\\users\\celes\\appdata\\roaming\\python\\python38\\site-packages (from ipython>=4.0.0; python_version >= \"3.3\"->ipywidgets->open3d==0.10.0.0) (2.8.0)\n",
      "Requirement already satisfied: setuptools>=18.5 in c:\\users\\celes\\anaconda3\\lib\\site-packages (from ipython>=4.0.0; python_version >= \"3.3\"->ipywidgets->open3d==0.10.0.0) (50.3.1.post20201107)\n",
      "Requirement already satisfied: colorama; sys_platform == \"win32\" in c:\\users\\celes\\appdata\\roaming\\python\\python38\\site-packages (from ipython>=4.0.0; python_version >= \"3.3\"->ipywidgets->open3d==0.10.0.0) (0.4.4)\n",
      "Requirement already satisfied: jedi>=0.16 in c:\\users\\celes\\appdata\\roaming\\python\\python38\\site-packages (from ipython>=4.0.0; python_version >= \"3.3\"->ipywidgets->open3d==0.10.0.0) (0.18.0)\n",
      "Requirement already satisfied: prompt-toolkit!=3.0.0,!=3.0.1,<3.1.0,>=2.0.0 in c:\\users\\celes\\appdata\\roaming\\python\\python38\\site-packages (from ipython>=4.0.0; python_version >= \"3.3\"->ipywidgets->open3d==0.10.0.0) (3.0.16)\n",
      "Requirement already satisfied: jsonschema!=2.5.0,>=2.4 in c:\\users\\celes\\anaconda3\\lib\\site-packages (from nbformat>=4.2.0->ipywidgets->open3d==0.10.0.0) (3.2.0)\n",
      "Requirement already satisfied: pywinpty>=0.5 in c:\\users\\celes\\anaconda3\\lib\\site-packages (from terminado>=0.8.3->notebook->open3d==0.10.0.0) (0.5.7)\n",
      "Requirement already satisfied: testpath in c:\\users\\celes\\anaconda3\\lib\\site-packages (from nbconvert->notebook->open3d==0.10.0.0) (0.4.4)\n",
      "Requirement already satisfied: defusedxml in c:\\users\\celes\\anaconda3\\lib\\site-packages (from nbconvert->notebook->open3d==0.10.0.0) (0.6.0)\n",
      "Requirement already satisfied: entrypoints>=0.2.2 in c:\\users\\celes\\anaconda3\\lib\\site-packages (from nbconvert->notebook->open3d==0.10.0.0) (0.3)\n",
      "Requirement already satisfied: jupyterlab-pygments in c:\\users\\celes\\anaconda3\\lib\\site-packages (from nbconvert->notebook->open3d==0.10.0.0) (0.1.2)\n",
      "Requirement already satisfied: nbclient<0.6.0,>=0.5.0 in c:\\users\\celes\\anaconda3\\lib\\site-packages (from nbconvert->notebook->open3d==0.10.0.0) (0.5.1)\n",
      "Requirement already satisfied: mistune<2,>=0.8.1 in c:\\users\\celes\\anaconda3\\lib\\site-packages (from nbconvert->notebook->open3d==0.10.0.0) (0.8.4)\n",
      "Requirement already satisfied: bleach in c:\\users\\celes\\anaconda3\\lib\\site-packages (from nbconvert->notebook->open3d==0.10.0.0) (3.2.1)\n",
      "Requirement already satisfied: pandocfilters>=1.4.1 in c:\\users\\celes\\anaconda3\\lib\\site-packages (from nbconvert->notebook->open3d==0.10.0.0) (1.4.3)\n",
      "Requirement already satisfied: MarkupSafe>=0.23 in c:\\users\\celes\\anaconda3\\lib\\site-packages (from jinja2->notebook->open3d==0.10.0.0) (1.1.1)\n",
      "Requirement already satisfied: pywin32>=1.0; sys_platform == \"win32\" in c:\\users\\celes\\anaconda3\\lib\\site-packages (from jupyter-core>=4.6.1->notebook->open3d==0.10.0.0) (227)\n",
      "Requirement already satisfied: cffi>=1.0.0 in c:\\users\\celes\\anaconda3\\lib\\site-packages (from argon2-cffi->notebook->open3d==0.10.0.0) (1.14.3)\n",
      "Requirement already satisfied: parso<0.9.0,>=0.8.0 in c:\\users\\celes\\appdata\\roaming\\python\\python38\\site-packages (from jedi>=0.16->ipython>=4.0.0; python_version >= \"3.3\"->ipywidgets->open3d==0.10.0.0) (0.8.1)\n",
      "Requirement already satisfied: wcwidth in c:\\users\\celes\\appdata\\roaming\\python\\python38\\site-packages (from prompt-toolkit!=3.0.0,!=3.0.1,<3.1.0,>=2.0.0->ipython>=4.0.0; python_version >= \"3.3\"->ipywidgets->open3d==0.10.0.0) (0.2.5)\n",
      "Requirement already satisfied: attrs>=17.4.0 in c:\\users\\celes\\anaconda3\\lib\\site-packages (from jsonschema!=2.5.0,>=2.4->nbformat>=4.2.0->ipywidgets->open3d==0.10.0.0) (20.3.0)\n",
      "Requirement already satisfied: pyrsistent>=0.14.0 in c:\\users\\celes\\anaconda3\\lib\\site-packages (from jsonschema!=2.5.0,>=2.4->nbformat>=4.2.0->ipywidgets->open3d==0.10.0.0) (0.17.3)\n",
      "Requirement already satisfied: async-generator in c:\\users\\celes\\anaconda3\\lib\\site-packages (from nbclient<0.6.0,>=0.5.0->nbconvert->notebook->open3d==0.10.0.0) (1.10)\n",
      "Requirement already satisfied: nest-asyncio in c:\\users\\celes\\anaconda3\\lib\\site-packages (from nbclient<0.6.0,>=0.5.0->nbconvert->notebook->open3d==0.10.0.0) (1.4.2)\n",
      "Requirement already satisfied: webencodings in c:\\users\\celes\\anaconda3\\lib\\site-packages (from bleach->nbconvert->notebook->open3d==0.10.0.0) (0.5.1)\n",
      "Requirement already satisfied: packaging in c:\\users\\celes\\anaconda3\\lib\\site-packages (from bleach->nbconvert->notebook->open3d==0.10.0.0) (20.4)\n",
      "Requirement already satisfied: pycparser in c:\\users\\celes\\anaconda3\\lib\\site-packages (from cffi>=1.0.0->argon2-cffi->notebook->open3d==0.10.0.0) (2.20)\n"
     ]
    }
   ],
   "source": [
    "!pip install open3d==0.10.0.0 --user"
   ]
  },
  {
   "cell_type": "code",
   "execution_count": 18,
   "metadata": {},
   "outputs": [],
   "source": [
    "#load in .las file\n",
    "import numpy as np\n",
    "import laspy as lp\n",
    "point_cloud=lp.file.File(\"0942.las\", mode=\"r\")"
   ]
  },
  {
   "cell_type": "code",
   "execution_count": 21,
   "metadata": {},
   "outputs": [],
   "source": [
    "#establish points for visualization\n",
    "points = np.vstack((point_cloud.x, point_cloud.y, point_cloud.z)).transpose()"
   ]
  },
  {
   "cell_type": "code",
   "execution_count": 22,
   "metadata": {},
   "outputs": [
    {
     "name": "stdout",
     "output_type": "stream",
     "text": [
      "[Open3D WARNING] [ViewControl] SetViewPoint() failed because window height and width are not set.\n"
     ]
    }
   ],
   "source": [
    "#load into open3d\n",
    "import open3d as o3d\n",
    "pcd = o3d.geometry.PointCloud()\n",
    "pcd.points = o3d.utility.Vector3dVector(points)\n",
    "pcd.colors = o3d.utility.Vector3dVector(colors/65535)\n",
    "o3d.visualization.draw_geometries([pcd])"
   ]
  },
  {
   "cell_type": "code",
   "execution_count": null,
   "metadata": {},
   "outputs": [],
   "source": []
  }
 ],
 "metadata": {
  "kernelspec": {
   "display_name": "Python 3",
   "language": "python",
   "name": "python3"
  },
  "language_info": {
   "codemirror_mode": {
    "name": "ipython",
    "version": 3
   },
   "file_extension": ".py",
   "mimetype": "text/x-python",
   "name": "python",
   "nbconvert_exporter": "python",
   "pygments_lexer": "ipython3",
   "version": "3.8.5"
  }
 },
 "nbformat": 4,
 "nbformat_minor": 4
}
